{
 "cells": [
  {
   "cell_type": "code",
   "execution_count": 24,
   "metadata": {},
   "outputs": [],
   "source": [
    "import pyalps\n",
    "import numpy as np\n",
    "import matplotlib.pyplot as plt\n",
    "import pyalps.plot"
   ]
  },
  {
   "cell_type": "code",
   "execution_count": 25,
   "metadata": {},
   "outputs": [],
   "source": [
    "parms = [ { \n",
    "           'LATTICE'                   : \"open square lattice\", \n",
    "           'MODEL'                     : \"fermion Hubbard\",\n",
    "           'CONSERVED_QUANTUMNUMBERS'  : 'Nup, Ndown',\n",
    "           'Nup_total'                  : 1,\n",
    "           'Ndown_total'                  : 1,\n",
    "           't'                         : 1,\n",
    "           'U'                         : -7,\n",
    "           'SWEEPS'                    : 4,\n",
    "           'NUMBER_EIGENVALUES'        : 2,\n",
    "           'L'                         : 80,\n",
    "           'W'                         : 1,\n",
    "           'MAXSTATES'                 : 200\n",
    "          } ]\n"
   ]
  },
  {
   "cell_type": "code",
   "execution_count": 26,
   "metadata": {},
   "outputs": [],
   "source": [
    "def calculate(parms, ceil, Nup, Nd, num):\n",
    "    a = list()\n",
    "    e = list()\n",
    "    \n",
    "    parms[0]['Nup_total'] = Nup\n",
    "    parms[0]['Ndown_total'] = Nd\n",
    "\n",
    "    for k in range(ceil):\n",
    "        file_name = 'point'+ str(num) + '.' + str(k)\n",
    "        input_file = pyalps.writeInputFiles(file_name, parms)\n",
    "        res = pyalps.runApplication('dmrg',input_file,writexml=True)\n",
    "\n",
    "        data = pyalps.loadEigenstateMeasurements(pyalps.getResultFiles(prefix=file_name))\n",
    "        for s in data[0]:\n",
    "           a.append(s.y[0])\n",
    "\n",
    "        parms[0]['Nup_total'] = parms[0]['Nup_total'] + 2\n",
    "        parms[0]['Ndown_total'] = parms[0]['Ndown_total'] + 2\n",
    "        \n",
    "    for i in range(0, len(a), 2):\n",
    "        e.append(a[i])\n",
    "    \n",
    "    return e\n"
   ]
  },
  {
   "cell_type": "code",
   "execution_count": 4,
   "metadata": {},
   "outputs": [
    {
     "name": "stdout",
     "output_type": "stream",
     "text": [
      "dmrg point1.0.in.xml --write-xml\n",
      "dmrg point1.1.in.xml --write-xml\n",
      "dmrg point1.2.in.xml --write-xml\n",
      "dmrg point1.3.in.xml --write-xml\n",
      "dmrg point1.4.in.xml --write-xml\n",
      "dmrg point1.5.in.xml --write-xml\n",
      "dmrg point1.6.in.xml --write-xml\n",
      "dmrg point1.7.in.xml --write-xml\n",
      "dmrg point1.8.in.xml --write-xml\n",
      "dmrg point1.9.in.xml --write-xml\n",
      "dmrg point1.10.in.xml --write-xml\n",
      "dmrg point1.11.in.xml --write-xml\n",
      "dmrg point1.12.in.xml --write-xml\n",
      "dmrg point1.13.in.xml --write-xml\n",
      "dmrg point1.14.in.xml --write-xml\n",
      "dmrg point1.15.in.xml --write-xml\n",
      "dmrg point1.16.in.xml --write-xml\n",
      "dmrg point1.17.in.xml --write-xml\n",
      "dmrg point1.18.in.xml --write-xml\n",
      "dmrg point1.19.in.xml --write-xml\n",
      "dmrg point1.20.in.xml --write-xml\n",
      "dmrg point1.21.in.xml --write-xml\n",
      "dmrg point1.22.in.xml --write-xml\n",
      "dmrg point1.23.in.xml --write-xml\n",
      "dmrg point1.24.in.xml --write-xml\n",
      "dmrg point1.25.in.xml --write-xml\n",
      "dmrg point1.26.in.xml --write-xml\n",
      "dmrg point1.27.in.xml --write-xml\n",
      "dmrg point1.28.in.xml --write-xml\n",
      "dmrg point1.29.in.xml --write-xml\n"
     ]
    }
   ],
   "source": [
    "e1 = calculate(parms, 30, 1, 1, 1)"
   ]
  },
  {
   "cell_type": "code",
   "execution_count": 27,
   "metadata": {},
   "outputs": [
    {
     "name": "stdout",
     "output_type": "stream",
     "text": [
      "dmrg point1.40.in.xml --write-xml\n",
      "dmrg point1.41.in.xml --write-xml\n",
      "dmrg point1.42.in.xml --write-xml\n",
      "dmrg point1.43.in.xml --write-xml\n",
      "dmrg point1.44.in.xml --write-xml\n",
      "dmrg point1.45.in.xml --write-xml\n",
      "dmrg point1.46.in.xml --write-xml\n",
      "dmrg point1.47.in.xml --write-xml\n",
      "dmrg point1.48.in.xml --write-xml\n",
      "dmrg point1.49.in.xml --write-xml\n"
     ]
    },
    {
     "data": {
      "text/plain": [
       "[-316.21807845947137,\n",
       " -329.99974391088847,\n",
       " -343.56932408968487,\n",
       " -356.93811528701326,\n",
       " -370.11810711236939,\n",
       " -383.12198935170642,\n",
       " -395.9630190901666,\n",
       " -408.65484098125955,\n",
       " -421.2112936250424,\n",
       " -433.64621790336088]"
      ]
     },
     "execution_count": 27,
     "metadata": {},
     "output_type": "execute_result"
    }
   ],
   "source": [
    "calculate(parms, 10, 41, 41, 1)"
   ]
  },
  {
   "cell_type": "code",
   "execution_count": 5,
   "metadata": {},
   "outputs": [
    {
     "name": "stdout",
     "output_type": "stream",
     "text": [
      "dmrg point2.0.in.xml --write-xml\n",
      "dmrg point2.1.in.xml --write-xml\n",
      "dmrg point2.2.in.xml --write-xml\n",
      "dmrg point2.3.in.xml --write-xml\n",
      "dmrg point2.4.in.xml --write-xml\n",
      "dmrg point2.5.in.xml --write-xml\n",
      "dmrg point2.6.in.xml --write-xml\n",
      "dmrg point2.7.in.xml --write-xml\n",
      "dmrg point2.8.in.xml --write-xml\n",
      "dmrg point2.9.in.xml --write-xml\n",
      "dmrg point2.10.in.xml --write-xml\n",
      "dmrg point2.11.in.xml --write-xml\n",
      "dmrg point2.12.in.xml --write-xml\n",
      "dmrg point2.13.in.xml --write-xml\n",
      "dmrg point2.14.in.xml --write-xml\n",
      "dmrg point2.15.in.xml --write-xml\n",
      "dmrg point2.16.in.xml --write-xml\n",
      "dmrg point2.17.in.xml --write-xml\n",
      "dmrg point2.18.in.xml --write-xml\n",
      "dmrg point2.19.in.xml --write-xml\n",
      "dmrg point2.20.in.xml --write-xml\n",
      "dmrg point2.21.in.xml --write-xml\n",
      "dmrg point2.22.in.xml --write-xml\n",
      "dmrg point2.23.in.xml --write-xml\n",
      "dmrg point2.24.in.xml --write-xml\n",
      "dmrg point2.25.in.xml --write-xml\n",
      "dmrg point2.26.in.xml --write-xml\n",
      "dmrg point2.27.in.xml --write-xml\n",
      "dmrg point2.28.in.xml --write-xml\n",
      "dmrg point2.29.in.xml --write-xml\n"
     ]
    }
   ],
   "source": [
    "e2 = calculate(parms, 30, 2, 0, 2)"
   ]
  },
  {
   "cell_type": "code",
   "execution_count": 4,
   "metadata": {},
   "outputs": [
    {
     "name": "stdout",
     "output_type": "stream",
     "text": [
      "dmrg point2.30.in.xml --write-xml\n",
      "dmrg point2.31.in.xml --write-xml\n",
      "dmrg point2.32.in.xml --write-xml\n",
      "dmrg point2.33.in.xml --write-xml\n",
      "dmrg point2.34.in.xml --write-xml\n",
      "dmrg point2.35.in.xml --write-xml\n",
      "dmrg point2.36.in.xml --write-xml\n",
      "dmrg point2.37.in.xml --write-xml\n",
      "dmrg point2.38.in.xml --write-xml\n",
      "dmrg point2.39.in.xml --write-xml\n"
     ]
    },
    {
     "data": {
      "text/plain": [
       "[-240.28887309811145,\n",
       " -247.7294386864622,\n",
       " -255.12366319738669,\n",
       " -262.46988117064097,\n",
       " -269.76656400761948,\n",
       " -277.0121941405319,\n",
       " -284.20514566661296,\n",
       " -291.34423489936643,\n",
       " -298.42779935157228,\n",
       " -305.45444322514612]"
      ]
     },
     "execution_count": 4,
     "metadata": {},
     "output_type": "execute_result"
    }
   ],
   "source": [
    "calculate(parms, 10, 32, 30, 2)"
   ]
  },
  {
   "cell_type": "code",
   "execution_count": 28,
   "metadata": {},
   "outputs": [
    {
     "name": "stdout",
     "output_type": "stream",
     "text": [
      "dmrg point2.40.in.xml --write-xml\n",
      "dmrg point2.41.in.xml --write-xml\n",
      "dmrg point2.42.in.xml --write-xml\n",
      "dmrg point2.43.in.xml --write-xml\n",
      "dmrg point2.44.in.xml --write-xml\n",
      "dmrg point2.45.in.xml --write-xml\n",
      "dmrg point2.46.in.xml --write-xml\n",
      "dmrg point2.47.in.xml --write-xml\n",
      "dmrg point2.48.in.xml --write-xml\n",
      "dmrg point2.49.in.xml --write-xml\n"
     ]
    },
    {
     "data": {
      "text/plain": [
       "[-312.4278001873746,\n",
       " -326.20522375747879,\n",
       " -339.76660296805511,\n",
       " -353.12366502764326,\n",
       " -366.28887091550217,\n",
       " -379.27541763011163,\n",
       " -392.0970870828188,\n",
       " -404.76815511687613,\n",
       " -417.30297464921398,\n",
       " -429.71593735630807]"
      ]
     },
     "execution_count": 28,
     "metadata": {},
     "output_type": "execute_result"
    }
   ],
   "source": [
    "calculate(parms, 10, 42, 40, 2)"
   ]
  },
  {
   "cell_type": "code",
   "execution_count": 6,
   "metadata": {},
   "outputs": [
    {
     "name": "stdout",
     "output_type": "stream",
     "text": [
      "dmrg point3.0.in.xml --write-xml\n",
      "dmrg point3.1.in.xml --write-xml\n",
      "dmrg point3.2.in.xml --write-xml\n",
      "dmrg point3.3.in.xml --write-xml\n",
      "dmrg point3.4.in.xml --write-xml\n",
      "dmrg point3.5.in.xml --write-xml\n",
      "dmrg point3.6.in.xml --write-xml\n",
      "dmrg point3.7.in.xml --write-xml\n",
      "dmrg point3.8.in.xml --write-xml\n",
      "dmrg point3.9.in.xml --write-xml\n",
      "dmrg point3.10.in.xml --write-xml\n",
      "dmrg point3.11.in.xml --write-xml\n",
      "dmrg point3.12.in.xml --write-xml\n",
      "dmrg point3.13.in.xml --write-xml\n",
      "dmrg point3.14.in.xml --write-xml\n",
      "dmrg point3.15.in.xml --write-xml\n",
      "dmrg point3.16.in.xml --write-xml\n",
      "dmrg point3.17.in.xml --write-xml\n",
      "dmrg point3.18.in.xml --write-xml\n",
      "dmrg point3.19.in.xml --write-xml\n",
      "dmrg point3.20.in.xml --write-xml\n",
      "dmrg point3.21.in.xml --write-xml\n",
      "dmrg point3.22.in.xml --write-xml\n",
      "dmrg point3.23.in.xml --write-xml\n",
      "dmrg point3.24.in.xml --write-xml\n",
      "dmrg point3.25.in.xml --write-xml\n",
      "dmrg point3.26.in.xml --write-xml\n",
      "dmrg point3.27.in.xml --write-xml\n",
      "dmrg point3.28.in.xml --write-xml\n",
      "dmrg point3.29.in.xml --write-xml\n"
     ]
    }
   ],
   "source": [
    "e3 = calculate(parms, 30, 2, 2, 3)"
   ]
  },
  {
   "cell_type": "code",
   "execution_count": 5,
   "metadata": {},
   "outputs": [
    {
     "name": "stdout",
     "output_type": "stream",
     "text": [
      "dmrg point3.30.in.xml --write-xml\n",
      "dmrg point3.31.in.xml --write-xml\n",
      "dmrg point3.32.in.xml --write-xml\n",
      "dmrg point3.33.in.xml --write-xml\n",
      "dmrg point3.34.in.xml --write-xml\n",
      "dmrg point3.35.in.xml --write-xml\n",
      "dmrg point3.36.in.xml --write-xml\n",
      "dmrg point3.37.in.xml --write-xml\n",
      "dmrg point3.38.in.xml --write-xml\n",
      "dmrg point3.39.in.xml --write-xml\n"
     ]
    }
   ],
   "source": [
    "e3 = calculate(parms, 10, 32, 32, 3)"
   ]
  },
  {
   "cell_type": "code",
   "execution_count": 29,
   "metadata": {},
   "outputs": [
    {
     "name": "stdout",
     "output_type": "stream",
     "text": [
      "dmrg point3.40.in.xml --write-xml\n",
      "dmrg point3.41.in.xml --write-xml\n",
      "dmrg point3.42.in.xml --write-xml\n",
      "dmrg point3.43.in.xml --write-xml\n",
      "dmrg point3.44.in.xml --write-xml\n",
      "dmrg point3.45.in.xml --write-xml\n",
      "dmrg point3.46.in.xml --write-xml\n",
      "dmrg point3.47.in.xml --write-xml\n",
      "dmrg point3.48.in.xml --write-xml\n",
      "dmrg point3.49.in.xml --write-xml\n"
     ]
    },
    {
     "data": {
      "text/plain": [
       "[-323.13610751801951,\n",
       " -336.8103530126586,\n",
       " -350.27808627354449,\n",
       " -363.55093321995679,\n",
       " -376.64124468150135,\n",
       " -389.56201485032847,\n",
       " -402.32671835251148,\n",
       " -414.9491212597805,\n",
       " -427.44308669252013,\n",
       " -439.82238811575343]"
      ]
     },
     "execution_count": 29,
     "metadata": {},
     "output_type": "execute_result"
    }
   ],
   "source": [
    "calculate(parms, 10, 42, 42, 3)"
   ]
  },
  {
   "cell_type": "code",
   "execution_count": 45,
   "metadata": {},
   "outputs": [
    {
     "name": "stdout",
     "output_type": "stream",
     "text": [
      "[2.0346893462140208, 2.0342309070771565, 2.0333778245105165, 2.032152745672853, 2.030553695439444, 2.0285916222664113, 2.0262732859397445, 2.0236084633447007, 2.02060864419974, 2.0172871740860074, 2.0136589902684534, 2.0097413792702667, 2.005553434655276, 2.001116002375092, 1.996450387229764, 1.9915817014132386, 1.9865353758311954, 1.9813404363751204, 1.976023020213887, 1.9706158634651274, 1.965148984284852, 1.9596527997433668, 1.9541630848624294, 1.9487160155117351, 1.9433427454309538, 1.9380830802538611, 1.932963578209879, 1.928005728877153, 1.9233010869873794, 1.8951391360483854, 1.897260076704839, 1.9013605608148794, 1.9072251296850027, 1.914618098433607, 1.9232858607973924, 1.9329660036738971, 1.9433429321917117, 1.954159487914211]\n",
      "[-4.030349137669491, -4.029337262251429, -4.027888364111307, -4.02596613391346, -4.023554742041107, -4.0206290340478255, -4.017162946405133, -4.013131923104048, -4.0085110434015405, -4.00327481808926, -3.9973986490291225, -3.990857915490672, -3.9836285680904524, -3.9756872367116003, -3.967011436387459, -3.9575797635882566, -3.9473720672111625, -3.9363696971872173, -3.924555663104073, -3.911914897061152, -3.89843439303975, -3.8841034673211965, -3.868913816243733, -3.852859863321271, -3.835938685832275, -3.8181503675841526, -3.7994978806551956, -3.7799872522337523, -3.7596276636383834, -3.4590145292740715, -3.405304550885063, -3.3543810919298096, -3.306408966471764, -3.2615687845659806, -3.2200127493110244, -3.1818496311724402, -3.147140139260472, -3.115896533738862]\n"
     ]
    }
   ],
   "source": [
    "h = list()\n",
    "for j in range(len(e1)):\n",
    "    h.append((e2[j] - e1[j])/2)\n",
    "print(h)\n",
    "\n",
    "mu = list()\n",
    "for i in range(len(e1)):\n",
    "    mu.append((e3[i] - e1[i])/2)\n",
    "    \n",
    "print(mu)\n"
   ]
  },
  {
   "cell_type": "code",
   "execution_count": 6,
   "metadata": {},
   "outputs": [],
   "source": [
    "def calculate2(parms, ceil, Nup, Nd, num):\n",
    "    a = list()\n",
    "    e = list()\n",
    "    \n",
    "    parms[0]['Nup_total'] = Nup\n",
    "    parms[0]['Ndown_total'] = Nd\n",
    "\n",
    "    for k in range(ceil):\n",
    "        file_name = 'point'+ str(num) + '.' + str(k)\n",
    "        input_file = pyalps.writeInputFiles(file_name, parms)\n",
    "        res = pyalps.runApplication('dmrg',input_file,writexml=True)\n",
    "\n",
    "        data = pyalps.loadEigenstateMeasurements(pyalps.getResultFiles(prefix=file_name))\n",
    "        for s in data[0]:\n",
    "           a.append(s.y[0])\n",
    "\n",
    "        parms[0]['Nup_total'] = parms[0]['Nup_total'] + 1\n",
    "        \n",
    "    for i in range(0, len(a), 2):\n",
    "        e.append(a[i])\n",
    "    \n",
    "    return e\n"
   ]
  },
  {
   "cell_type": "code",
   "execution_count": 5,
   "metadata": {},
   "outputs": [
    {
     "name": "stdout",
     "output_type": "stream",
     "text": [
      "dmrg point4.0.in.xml --write-xml\n",
      "dmrg point4.1.in.xml --write-xml\n",
      "dmrg point4.2.in.xml --write-xml\n",
      "dmrg point4.3.in.xml --write-xml\n",
      "dmrg point4.4.in.xml --write-xml\n",
      "dmrg point4.5.in.xml --write-xml\n",
      "dmrg point4.6.in.xml --write-xml\n",
      "dmrg point4.7.in.xml --write-xml\n",
      "dmrg point4.8.in.xml --write-xml\n",
      "dmrg point4.9.in.xml --write-xml\n",
      "dmrg point4.10.in.xml --write-xml\n",
      "dmrg point4.11.in.xml --write-xml\n",
      "dmrg point4.12.in.xml --write-xml\n",
      "dmrg point4.13.in.xml --write-xml\n",
      "dmrg point4.14.in.xml --write-xml\n",
      "dmrg point4.15.in.xml --write-xml\n",
      "dmrg point4.16.in.xml --write-xml\n",
      "dmrg point4.17.in.xml --write-xml\n",
      "dmrg point4.18.in.xml --write-xml\n",
      "dmrg point4.19.in.xml --write-xml\n",
      "dmrg point4.20.in.xml --write-xml\n",
      "dmrg point4.21.in.xml --write-xml\n",
      "dmrg point4.22.in.xml --write-xml\n",
      "dmrg point4.23.in.xml --write-xml\n",
      "dmrg point4.24.in.xml --write-xml\n",
      "dmrg point4.25.in.xml --write-xml\n",
      "dmrg point4.26.in.xml --write-xml\n",
      "dmrg point4.27.in.xml --write-xml\n",
      "dmrg point4.28.in.xml --write-xml\n",
      "dmrg point4.29.in.xml --write-xml\n",
      "dmrg point4.30.in.xml --write-xml\n",
      "dmrg point4.31.in.xml --write-xml\n",
      "dmrg point4.32.in.xml --write-xml\n",
      "dmrg point4.33.in.xml --write-xml\n",
      "dmrg point4.34.in.xml --write-xml\n",
      "dmrg point4.35.in.xml --write-xml\n",
      "dmrg point4.36.in.xml --write-xml\n",
      "dmrg point4.37.in.xml --write-xml\n",
      "dmrg point4.38.in.xml --write-xml\n",
      "dmrg point4.39.in.xml --write-xml\n",
      "dmrg point4.40.in.xml --write-xml\n",
      "dmrg point4.41.in.xml --write-xml\n",
      "dmrg point4.42.in.xml --write-xml\n",
      "dmrg point4.43.in.xml --write-xml\n",
      "dmrg point4.44.in.xml --write-xml\n",
      "dmrg point4.45.in.xml --write-xml\n",
      "dmrg point4.46.in.xml --write-xml\n",
      "dmrg point4.47.in.xml --write-xml\n",
      "dmrg point4.48.in.xml --write-xml\n",
      "dmrg point4.49.in.xml --write-xml\n",
      "dmrg point4.50.in.xml --write-xml\n",
      "dmrg point4.51.in.xml --write-xml\n",
      "dmrg point4.52.in.xml --write-xml\n",
      "dmrg point4.53.in.xml --write-xml\n",
      "dmrg point4.54.in.xml --write-xml\n",
      "dmrg point4.55.in.xml --write-xml\n",
      "dmrg point4.56.in.xml --write-xml\n",
      "dmrg point4.57.in.xml --write-xml\n",
      "dmrg point4.58.in.xml --write-xml\n",
      "dmrg point4.59.in.xml --write-xml\n",
      "dmrg point5.0.in.xml --write-xml\n",
      "dmrg point5.1.in.xml --write-xml\n",
      "dmrg point5.2.in.xml --write-xml\n",
      "dmrg point5.3.in.xml --write-xml\n",
      "dmrg point5.4.in.xml --write-xml\n",
      "dmrg point5.5.in.xml --write-xml\n",
      "dmrg point5.6.in.xml --write-xml\n",
      "dmrg point5.7.in.xml --write-xml\n",
      "dmrg point5.8.in.xml --write-xml\n",
      "dmrg point5.9.in.xml --write-xml\n",
      "dmrg point5.10.in.xml --write-xml\n",
      "dmrg point5.11.in.xml --write-xml\n",
      "dmrg point5.12.in.xml --write-xml\n",
      "dmrg point5.13.in.xml --write-xml\n",
      "dmrg point5.14.in.xml --write-xml\n",
      "dmrg point5.15.in.xml --write-xml\n",
      "dmrg point5.16.in.xml --write-xml\n",
      "dmrg point5.17.in.xml --write-xml\n",
      "dmrg point5.18.in.xml --write-xml\n",
      "dmrg point5.19.in.xml --write-xml\n",
      "dmrg point5.20.in.xml --write-xml\n",
      "dmrg point5.21.in.xml --write-xml\n",
      "dmrg point5.22.in.xml --write-xml\n",
      "dmrg point5.23.in.xml --write-xml\n",
      "dmrg point5.24.in.xml --write-xml\n",
      "dmrg point5.25.in.xml --write-xml\n",
      "dmrg point5.26.in.xml --write-xml\n",
      "dmrg point5.27.in.xml --write-xml\n",
      "dmrg point5.28.in.xml --write-xml\n",
      "dmrg point5.29.in.xml --write-xml\n",
      "dmrg point5.30.in.xml --write-xml\n",
      "dmrg point5.31.in.xml --write-xml\n",
      "dmrg point5.32.in.xml --write-xml\n",
      "dmrg point5.33.in.xml --write-xml\n",
      "dmrg point5.34.in.xml --write-xml\n",
      "dmrg point5.35.in.xml --write-xml\n",
      "dmrg point5.36.in.xml --write-xml\n",
      "dmrg point5.37.in.xml --write-xml\n",
      "dmrg point5.38.in.xml --write-xml\n",
      "dmrg point5.39.in.xml --write-xml\n",
      "dmrg point5.40.in.xml --write-xml\n",
      "dmrg point5.41.in.xml --write-xml\n",
      "dmrg point5.42.in.xml --write-xml\n",
      "dmrg point5.43.in.xml --write-xml\n",
      "dmrg point5.44.in.xml --write-xml\n",
      "dmrg point5.45.in.xml --write-xml\n",
      "dmrg point5.46.in.xml --write-xml\n",
      "dmrg point5.47.in.xml --write-xml\n",
      "dmrg point5.48.in.xml --write-xml\n",
      "dmrg point5.49.in.xml --write-xml\n",
      "dmrg point5.50.in.xml --write-xml\n",
      "dmrg point5.51.in.xml --write-xml\n",
      "dmrg point5.52.in.xml --write-xml\n",
      "dmrg point5.53.in.xml --write-xml\n",
      "dmrg point5.54.in.xml --write-xml\n",
      "dmrg point5.55.in.xml --write-xml\n",
      "dmrg point5.56.in.xml --write-xml\n",
      "dmrg point5.57.in.xml --write-xml\n",
      "dmrg point5.58.in.xml --write-xml\n",
      "dmrg point5.59.in.xml --write-xml\n",
      "dmrg point6.0.in.xml --write-xml\n",
      "dmrg point6.1.in.xml --write-xml\n",
      "dmrg point6.2.in.xml --write-xml\n",
      "dmrg point6.3.in.xml --write-xml\n",
      "dmrg point6.4.in.xml --write-xml\n",
      "dmrg point6.5.in.xml --write-xml\n",
      "dmrg point6.6.in.xml --write-xml\n",
      "dmrg point6.7.in.xml --write-xml\n",
      "dmrg point6.8.in.xml --write-xml\n",
      "dmrg point6.9.in.xml --write-xml\n",
      "dmrg point6.10.in.xml --write-xml\n",
      "dmrg point6.11.in.xml --write-xml\n",
      "dmrg point6.12.in.xml --write-xml\n",
      "dmrg point6.13.in.xml --write-xml\n",
      "dmrg point6.14.in.xml --write-xml\n",
      "dmrg point6.15.in.xml --write-xml\n",
      "dmrg point6.16.in.xml --write-xml\n",
      "dmrg point6.17.in.xml --write-xml\n",
      "dmrg point6.18.in.xml --write-xml\n",
      "dmrg point6.19.in.xml --write-xml\n",
      "dmrg point6.20.in.xml --write-xml\n",
      "dmrg point6.21.in.xml --write-xml\n",
      "dmrg point6.22.in.xml --write-xml\n",
      "dmrg point6.23.in.xml --write-xml\n",
      "dmrg point6.24.in.xml --write-xml\n",
      "dmrg point6.25.in.xml --write-xml\n",
      "dmrg point6.26.in.xml --write-xml\n",
      "dmrg point6.27.in.xml --write-xml\n",
      "dmrg point6.28.in.xml --write-xml\n",
      "dmrg point6.29.in.xml --write-xml\n",
      "dmrg point6.30.in.xml --write-xml\n",
      "dmrg point6.31.in.xml --write-xml\n",
      "dmrg point6.32.in.xml --write-xml\n",
      "dmrg point6.33.in.xml --write-xml\n",
      "dmrg point6.34.in.xml --write-xml\n",
      "dmrg point6.35.in.xml --write-xml\n",
      "dmrg point6.36.in.xml --write-xml\n",
      "dmrg point6.37.in.xml --write-xml\n",
      "dmrg point6.38.in.xml --write-xml\n",
      "dmrg point6.39.in.xml --write-xml\n",
      "dmrg point6.40.in.xml --write-xml\n",
      "dmrg point6.41.in.xml --write-xml\n",
      "dmrg point6.42.in.xml --write-xml\n",
      "dmrg point6.43.in.xml --write-xml\n",
      "dmrg point6.44.in.xml --write-xml\n",
      "dmrg point6.45.in.xml --write-xml\n",
      "dmrg point6.46.in.xml --write-xml\n",
      "dmrg point6.47.in.xml --write-xml\n",
      "dmrg point6.48.in.xml --write-xml\n",
      "dmrg point6.49.in.xml --write-xml\n",
      "dmrg point6.50.in.xml --write-xml\n",
      "dmrg point6.51.in.xml --write-xml\n",
      "dmrg point6.52.in.xml --write-xml\n",
      "dmrg point6.53.in.xml --write-xml\n",
      "dmrg point6.54.in.xml --write-xml\n",
      "dmrg point6.55.in.xml --write-xml\n",
      "dmrg point6.56.in.xml --write-xml\n",
      "dmrg point6.57.in.xml --write-xml\n",
      "dmrg point6.58.in.xml --write-xml\n",
      "dmrg point6.59.in.xml --write-xml\n"
     ]
    }
   ],
   "source": [
    "e4 = calculate2(parms, 60, 2, 0, 4)\n",
    "e5 = calculate2(parms, 60, 3, 1, 5)\n",
    "e6 = calculate2(parms, 60, 1, 1, 6)\n"
   ]
  },
  {
   "cell_type": "code",
   "execution_count": 7,
   "metadata": {},
   "outputs": [
    {
     "name": "stdout",
     "output_type": "stream",
     "text": [
      "dmrg point4.60.in.xml --write-xml\n",
      "dmrg point4.61.in.xml --write-xml\n",
      "dmrg point4.62.in.xml --write-xml\n",
      "dmrg point4.63.in.xml --write-xml\n",
      "dmrg point4.64.in.xml --write-xml\n",
      "dmrg point4.65.in.xml --write-xml\n",
      "dmrg point4.66.in.xml --write-xml\n",
      "dmrg point4.67.in.xml --write-xml\n",
      "dmrg point4.68.in.xml --write-xml\n",
      "dmrg point4.69.in.xml --write-xml\n",
      "dmrg point5.60.in.xml --write-xml\n",
      "dmrg point5.61.in.xml --write-xml\n",
      "dmrg point5.62.in.xml --write-xml\n",
      "dmrg point5.63.in.xml --write-xml\n",
      "dmrg point5.64.in.xml --write-xml\n",
      "dmrg point5.65.in.xml --write-xml\n",
      "dmrg point5.66.in.xml --write-xml\n",
      "dmrg point5.67.in.xml --write-xml\n",
      "dmrg point5.68.in.xml --write-xml\n",
      "dmrg point5.69.in.xml --write-xml\n",
      "dmrg point6.60.in.xml --write-xml\n",
      "dmrg point6.61.in.xml --write-xml\n",
      "dmrg point6.62.in.xml --write-xml\n",
      "dmrg point6.63.in.xml --write-xml\n",
      "dmrg point6.64.in.xml --write-xml\n",
      "dmrg point6.65.in.xml --write-xml\n",
      "dmrg point6.66.in.xml --write-xml\n",
      "dmrg point6.67.in.xml --write-xml\n",
      "dmrg point6.68.in.xml --write-xml\n",
      "dmrg point6.69.in.xml --write-xml\n"
     ]
    },
    {
     "data": {
      "text/plain": [
       "[-42.918539230013138,\n",
       " -41.477669354142812,\n",
       " -39.984648217763464,\n",
       " -38.441561348940553,\n",
       " -36.85076603277485,\n",
       " -35.214609776077111,\n",
       " -33.535548585995485,\n",
       " -31.815993740689919,\n",
       " -30.058555997869963,\n",
       " -28.265848144932669]"
      ]
     },
     "execution_count": 7,
     "metadata": {},
     "output_type": "execute_result"
    }
   ],
   "source": [
    "calculate2(parms, 10, 62, 0, 4)\n",
    "calculate2(parms, 10, 63, 1, 5)\n",
    "calculate2(parms, 10, 61, 1, 6)"
   ]
  },
  {
   "cell_type": "code",
   "execution_count": 17,
   "metadata": {},
   "outputs": [
    {
     "name": "stdout",
     "output_type": "stream",
     "text": [
      "[2.0346951290444952, 2.0406715532905118, 2.0495795595011166, 2.0613312240369845, 2.0759051926535088, 2.0932376317595729, 2.1132710311356426, 2.1359028825121928, 2.161082228090601, 2.1887377048764716, 2.2188122956631808, 2.2511996357790718, 2.2858246165714853, 2.3226155904725996, 2.3614954182691044, 2.4024277232740356, 2.4452053274833858, 2.4899350590535008, 2.5363332435195076, 2.5843112353782445, 2.6341878550963962, 2.6853032735182367, 2.7381943401407476, 2.7922385899236346, 2.8475256396348385, 2.9041280028021852, 2.9617745082875011, 3.0204658810786071, 3.0800201777560936, 3.1406590162813188, 3.2019774385524649, 3.2639870858906406, 3.3266427859256389, 3.3898063176604758, 3.4533109258303085, 3.5174974134488508, 3.5818772673697268, 3.6464117947783947, 3.7110608355943384, 3.7758490743302104, 3.8405821759578096, 3.9051639824088902, 3.9696163634067396, 4.0337527138408156, 4.0975462939258556, 4.1609449473776046, 4.2238038791409416, 4.2860399256675947, 4.347650132928532, 4.4084847856924476, 4.4684901303798128, 4.5275828438861119, 4.5856806126261525, 4.642691019061818, 4.6985747778349101, 4.7532191461351978, 4.8065465487356676, 4.858493930393422, 4.9089814321609886, 4.9579357119384255, 5.0052672724653213, 5.0508767776485435, 5.0947588789772293, 5.1367675148285912, 5.1768576681585863, 5.2149464393399292, 5.2509740756013592, 5.2848292932717751, 5.3164733628282743, 5.3458434056306956]\n",
      "[-4.0308033686529292, -4.0305680115550535, -4.0302171179180348, -4.0296655138519206, -4.0289142086163663, -4.0278342947430126, -4.0265255183239379, -4.0248465799591724, -4.0228499253663053, -4.0203399171104977, -4.0175777844545841, -4.0142859717765003, -4.0105352999447277, -4.0063550291569197, -4.0016615963250786, -3.9964618428851804, -3.9908192860569294, -3.9846124251711892, -3.9779762231941724, -3.9708097334906327, -3.9631532196504757, -3.9550334599980879, -3.9461992171274645, -3.9373603178044689, -3.9278230519105293, -3.9178954664523395, -3.907554857353265, -3.896896825150872, -3.8858598153589341, -3.8744940724056534, -3.8628325198380118, -3.8509208485743756, -3.8388106373027711, -3.8264720770400942, -3.8140288307815737, -3.8013531346267122, -3.7885969962779384, -3.7757681867155704, -3.7630531709369635, -3.7502427995233631, -3.7374489753960134, -3.7247676787458914, -3.7122248570684597, -3.6997866336277809, -3.6875541857529193, -3.6755170337042919, -3.6637379583252887, -3.6522285701546835, -3.64102882628492, -3.6301502218905384, -3.619631403347217, -3.6094935249358926, -3.599767549838333, -3.5904575863286183, -3.5815719557555177, -3.5731708100147657, -3.5652103454264648, -3.5577365603783875, -3.5507840727617861, -3.5442970875028657, -3.5382984503069643, -3.5328226741134614, -3.5278177864829221, -3.5232894514698394, -3.5192100435038647, -3.5156465540248565, -3.5125018260793333, -3.5097753763892605, -3.5074580498172327, -3.5055155281766126]\n"
     ]
    }
   ],
   "source": [
    "h2 = list()\n",
    "for j in range(0, len(e4)):\n",
    "    h2.append((e6[j] - e4[j])/(-2))\n",
    "print(h2)\n",
    "\n",
    "mu2 = list()\n",
    "for z in range(0, len(e4)):\n",
    "    mu2.append((e5[z] - e4[z])/2)\n",
    "    \n",
    "print(mu2)"
   ]
  },
  {
   "cell_type": "code",
   "execution_count": 30,
   "metadata": {},
   "outputs": [],
   "source": [
    "def get_result(num):\n",
    "    a = list()\n",
    "    e = list()\n",
    "    for k in range(49):\n",
    "        file_name = 'point'+ str(num) + '.' + str(k)\n",
    "\n",
    "        data = pyalps.loadEigenstateMeasurements(pyalps.getResultFiles(prefix=file_name))\n",
    "        for s in data[0]:\n",
    "           a.append(s.y[0])\n",
    "    for i in range(0, len(a), 2):\n",
    "        e.append(a[i])\n",
    "    return e"
   ]
  },
  {
   "cell_type": "code",
   "execution_count": 18,
   "metadata": {},
   "outputs": [],
   "source": [
    "h1 = np.arange(h2[0], 2.7, 0.1)\n",
    "def mu1(h):\n",
    "    return -h - 2\n",
    "h3 = np.arange(5.3, 7, 0.2)\n",
    "def mu3(h):\n",
    "    return -h + 2\n"
   ]
  },
  {
   "cell_type": "code",
   "execution_count": 51,
   "metadata": {},
   "outputs": [
    {
     "data": {
      "image/png": "[encoded data removed]",
      "text/plain": [
       "<Figure size 1008x648 with 1 Axes>"
      ]
     },
     "metadata": {
      "needs_background": "light"
     },
     "output_type": "display_data"
    }
   ],
   "source": [
    "xscale = 8\n",
    "plt.figure(figsize=(14, 9))\n",
    "plt.plot(h, mu, '-')\n",
    "plt.plot(h2, mu2, '-')\n",
    "plt.axis([0, xscale, -4.5, -3.51])\n",
    "plt.axhline(y=(e1[0]/2), color='red', xmax=(h2[0]/xscale))\n",
    "plt.axvline(x=h2[0], linestyle=':', color='black')\n",
    "plt.plot(h1, mu1(h1), '-')\n",
    "plt.plot(h3, mu3(h3), '-')\n",
    "plt.xlabel('h')\n",
    "plt.ylabel('mu')\n",
    "plt.show()\n"
   ]
  },
  {
   "cell_type": "code",
   "execution_count": 40,
   "metadata": {},
   "outputs": [
    {
     "name": "stdout",
     "output_type": "stream",
     "text": [
      "49\n"
     ]
    }
   ],
   "source": []
  },
  {
   "cell_type": "code",
   "execution_count": null,
   "metadata": {},
   "outputs": [],
   "source": []
  }
 ],
 "metadata": {
  "kernelspec": {
   "display_name": "Python 2",
   "language": "python",
   "name": "python2"
  },
  "language_info": {
   "codemirror_mode": {
    "name": "ipython",
    "version": 2
   },
   "file_extension": ".py",
   "mimetype": "text/x-python",
   "name": "python",
   "nbconvert_exporter": "python",
   "pygments_lexer": "ipython2",
   "version": "2.7.15"
  }
 },
 "nbformat": 4,
 "nbformat_minor": 2
}
